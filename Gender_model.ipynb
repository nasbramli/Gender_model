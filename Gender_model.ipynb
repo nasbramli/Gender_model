{
  "cells": [
    {
      "cell_type": "markdown",
      "id": "08f06872",
      "metadata": {
        "id": "08f06872"
      },
      "source": [
        "# Gender Classification"
      ]
    },
    {
      "cell_type": "markdown",
      "id": "c82fed57",
      "metadata": {
        "id": "c82fed57"
      },
      "source": [
        "Dataset Used is -\n",
        "https://talhassner.github.io/home/projects/Adience/Adience-data.html#frontalized"
      ]
    },
    {
      "cell_type": "code",
      "execution_count": null,
      "id": "b7a92a93",
      "metadata": {
        "id": "b7a92a93"
      },
      "outputs": [],
      "source": [
        "import os"
      ]
    },
    {
      "cell_type": "code",
      "execution_count": null,
      "id": "3f346295",
      "metadata": {
        "id": "3f346295"
      },
      "outputs": [],
      "source": [
        "path_faces = './aligned'"
      ]
    },
    {
      "cell_type": "code",
      "execution_count": null,
      "id": "0a616dbf",
      "metadata": {
        "id": "0a616dbf"
      },
      "outputs": [],
      "source": [
        "image_folder_dict = {}\n",
        "for folder in os.listdir(path_faces):\n",
        "    image_files = []\n",
        "    if folder[-4:] != '.txt':\n",
        "        for files in os.listdir(path_faces + '/' + folder):\n",
        "            if files[-4:] == '.jpg':\n",
        "                  image_files.append(files)\n",
        "        image_folder_dict[f'{folder}'] = image_files"
      ]
    },
    {
      "cell_type": "code",
      "execution_count": null,
      "id": "fbbec396",
      "metadata": {
        "id": "fbbec396"
      },
      "outputs": [],
      "source": [
        "import pandas as pd"
      ]
    },
    {
      "cell_type": "code",
      "execution_count": null,
      "id": "f36e356b",
      "metadata": {
        "id": "f36e356b"
      },
      "outputs": [],
      "source": [
        "def load_fold_data():\n",
        "    fold_0_path = './aligned/fold_0_data.txt'\n",
        "    fold_1_path = './aligned/fold_1_data.txt'\n",
        "    fold_2_path = './aligned/fold_2_data.txt'\n",
        "    fold_3_path = './aligned/fold_3_data.txt'\n",
        "    fold_4_path = './aligned/fold_4_data.txt'\n",
        "\n",
        "    fold_0_df = pd.read_csv(fold_0_path, sep='\\t')\n",
        "    fold_1_df = pd.read_csv(fold_1_path, sep='\\t')\n",
        "    fold_2_df = pd.read_csv(fold_2_path, sep='\\t')\n",
        "    fold_3_df = pd.read_csv(fold_3_path, sep='\\t')\n",
        "    fold_4_df = pd.read_csv(fold_4_path, sep='\\t')\n",
        "\n",
        "    full_fold_df = fold_0_df.append(fold_1_df)\n",
        "    full_fold_df = full_fold_df.append(fold_2_df)\n",
        "    full_fold_df = full_fold_df.append(fold_3_df)\n",
        "    full_fold_df = full_fold_df.append(fold_4_df)\n",
        "\n",
        "    return full_fold_df"
      ]
    },
    {
      "cell_type": "code",
      "execution_count": null,
      "id": "768dc0f7",
      "metadata": {
        "id": "768dc0f7",
        "outputId": "e33d2189-6baa-461f-d053-565c8b2d95f0"
      },
      "outputs": [
        {
          "name": "stderr",
          "output_type": "stream",
          "text": [
            "C:\\Users\\Pranav S\\AppData\\Local\\Temp\\ipykernel_11036\\3076234044.py:14: FutureWarning: The frame.append method is deprecated and will be removed from pandas in a future version. Use pandas.concat instead.\n",
            "  full_fold_df = fold_0_df.append(fold_1_df)\n",
            "C:\\Users\\Pranav S\\AppData\\Local\\Temp\\ipykernel_11036\\3076234044.py:15: FutureWarning: The frame.append method is deprecated and will be removed from pandas in a future version. Use pandas.concat instead.\n",
            "  full_fold_df = full_fold_df.append(fold_2_df)\n",
            "C:\\Users\\Pranav S\\AppData\\Local\\Temp\\ipykernel_11036\\3076234044.py:16: FutureWarning: The frame.append method is deprecated and will be removed from pandas in a future version. Use pandas.concat instead.\n",
            "  full_fold_df = full_fold_df.append(fold_3_df)\n",
            "C:\\Users\\Pranav S\\AppData\\Local\\Temp\\ipykernel_11036\\3076234044.py:17: FutureWarning: The frame.append method is deprecated and will be removed from pandas in a future version. Use pandas.concat instead.\n",
            "  full_fold_df = full_fold_df.append(fold_4_df)\n"
          ]
        }
      ],
      "source": [
        "full_fold_df = load_fold_data()"
      ]
    },
    {
      "cell_type": "code",
      "execution_count": null,
      "id": "b1c1bbd2",
      "metadata": {
        "id": "b1c1bbd2",
        "outputId": "4ffb689c-baad-4c55-d45c-6673c2708411"
      },
      "outputs": [
        {
          "data": {
            "text/html": [
              "<div>\n",
              "<style scoped>\n",
              "    .dataframe tbody tr th:only-of-type {\n",
              "        vertical-align: middle;\n",
              "    }\n",
              "\n",
              "    .dataframe tbody tr th {\n",
              "        vertical-align: top;\n",
              "    }\n",
              "\n",
              "    .dataframe thead th {\n",
              "        text-align: right;\n",
              "    }\n",
              "</style>\n",
              "<table border=\"1\" class=\"dataframe\">\n",
              "  <thead>\n",
              "    <tr style=\"text-align: right;\">\n",
              "      <th></th>\n",
              "      <th>user_id</th>\n",
              "      <th>original_image</th>\n",
              "      <th>face_id</th>\n",
              "      <th>age</th>\n",
              "      <th>gender</th>\n",
              "      <th>x</th>\n",
              "      <th>y</th>\n",
              "      <th>dx</th>\n",
              "      <th>dy</th>\n",
              "      <th>tilt_ang</th>\n",
              "      <th>fiducial_yaw_angle</th>\n",
              "      <th>fiducial_score</th>\n",
              "    </tr>\n",
              "  </thead>\n",
              "  <tbody>\n",
              "    <tr>\n",
              "      <th>0</th>\n",
              "      <td>30601258@N03</td>\n",
              "      <td>10399646885_67c7d20df9_o.jpg</td>\n",
              "      <td>1</td>\n",
              "      <td>(25, 32)</td>\n",
              "      <td>f</td>\n",
              "      <td>0</td>\n",
              "      <td>414</td>\n",
              "      <td>1086</td>\n",
              "      <td>1383</td>\n",
              "      <td>-115</td>\n",
              "      <td>30</td>\n",
              "      <td>17</td>\n",
              "    </tr>\n",
              "    <tr>\n",
              "      <th>1</th>\n",
              "      <td>30601258@N03</td>\n",
              "      <td>10424815813_e94629b1ec_o.jpg</td>\n",
              "      <td>2</td>\n",
              "      <td>(25, 32)</td>\n",
              "      <td>m</td>\n",
              "      <td>301</td>\n",
              "      <td>105</td>\n",
              "      <td>640</td>\n",
              "      <td>641</td>\n",
              "      <td>0</td>\n",
              "      <td>0</td>\n",
              "      <td>94</td>\n",
              "    </tr>\n",
              "    <tr>\n",
              "      <th>2</th>\n",
              "      <td>30601258@N03</td>\n",
              "      <td>10437979845_5985be4b26_o.jpg</td>\n",
              "      <td>1</td>\n",
              "      <td>(25, 32)</td>\n",
              "      <td>f</td>\n",
              "      <td>2395</td>\n",
              "      <td>876</td>\n",
              "      <td>771</td>\n",
              "      <td>771</td>\n",
              "      <td>175</td>\n",
              "      <td>-30</td>\n",
              "      <td>74</td>\n",
              "    </tr>\n",
              "    <tr>\n",
              "      <th>3</th>\n",
              "      <td>30601258@N03</td>\n",
              "      <td>10437979845_5985be4b26_o.jpg</td>\n",
              "      <td>3</td>\n",
              "      <td>(25, 32)</td>\n",
              "      <td>m</td>\n",
              "      <td>752</td>\n",
              "      <td>1255</td>\n",
              "      <td>484</td>\n",
              "      <td>485</td>\n",
              "      <td>180</td>\n",
              "      <td>0</td>\n",
              "      <td>47</td>\n",
              "    </tr>\n",
              "    <tr>\n",
              "      <th>4</th>\n",
              "      <td>30601258@N03</td>\n",
              "      <td>11816644924_075c3d8d59_o.jpg</td>\n",
              "      <td>2</td>\n",
              "      <td>(25, 32)</td>\n",
              "      <td>m</td>\n",
              "      <td>175</td>\n",
              "      <td>80</td>\n",
              "      <td>769</td>\n",
              "      <td>768</td>\n",
              "      <td>-75</td>\n",
              "      <td>0</td>\n",
              "      <td>34</td>\n",
              "    </tr>\n",
              "  </tbody>\n",
              "</table>\n",
              "</div>"
            ],
            "text/plain": [
              "        user_id                original_image  face_id       age gender     x  \\\n",
              "0  30601258@N03  10399646885_67c7d20df9_o.jpg        1  (25, 32)      f     0   \n",
              "1  30601258@N03  10424815813_e94629b1ec_o.jpg        2  (25, 32)      m   301   \n",
              "2  30601258@N03  10437979845_5985be4b26_o.jpg        1  (25, 32)      f  2395   \n",
              "3  30601258@N03  10437979845_5985be4b26_o.jpg        3  (25, 32)      m   752   \n",
              "4  30601258@N03  11816644924_075c3d8d59_o.jpg        2  (25, 32)      m   175   \n",
              "\n",
              "      y    dx    dy  tilt_ang  fiducial_yaw_angle  fiducial_score  \n",
              "0   414  1086  1383      -115                  30              17  \n",
              "1   105   640   641         0                   0              94  \n",
              "2   876   771   771       175                 -30              74  \n",
              "3  1255   484   485       180                   0              47  \n",
              "4    80   769   768       -75                   0              34  "
            ]
          },
          "execution_count": 7,
          "metadata": {},
          "output_type": "execute_result"
        }
      ],
      "source": [
        "full_fold_df.head()"
      ]
    },
    {
      "cell_type": "code",
      "execution_count": null,
      "id": "aa4f9736",
      "metadata": {
        "id": "aa4f9736",
        "outputId": "457d7cff-b0d6-4036-eeb3-ef882c1d734f"
      },
      "outputs": [
        {
          "name": "stdout",
          "output_type": "stream",
          "text": [
            "<class 'pandas.core.frame.DataFrame'>\n",
            "Int64Index: 19370 entries, 0 to 3815\n",
            "Data columns (total 12 columns):\n",
            " #   Column              Non-Null Count  Dtype \n",
            "---  ------              --------------  ----- \n",
            " 0   user_id             19370 non-null  object\n",
            " 1   original_image      19370 non-null  object\n",
            " 2   face_id             19370 non-null  int64 \n",
            " 3   age                 19370 non-null  object\n",
            " 4   gender              18591 non-null  object\n",
            " 5   x                   19370 non-null  int64 \n",
            " 6   y                   19370 non-null  int64 \n",
            " 7   dx                  19370 non-null  int64 \n",
            " 8   dy                  19370 non-null  int64 \n",
            " 9   tilt_ang            19370 non-null  int64 \n",
            " 10  fiducial_yaw_angle  19370 non-null  int64 \n",
            " 11  fiducial_score      19370 non-null  int64 \n",
            "dtypes: int64(8), object(4)\n",
            "memory usage: 1.9+ MB\n"
          ]
        }
      ],
      "source": [
        "full_fold_df.info()"
      ]
    },
    {
      "cell_type": "code",
      "execution_count": null,
      "id": "a541eaef",
      "metadata": {
        "id": "a541eaef",
        "outputId": "601bc6de-0736-45ce-b7e2-4c0fab913791"
      },
      "outputs": [
        {
          "name": "stdout",
          "output_type": "stream",
          "text": [
            "['f' 'm' nan 'u']\n"
          ]
        }
      ],
      "source": [
        "full_fold_df = full_fold_df.reset_index(drop=True)\n",
        "print(full_fold_df.gender.unique())"
      ]
    },
    {
      "cell_type": "code",
      "execution_count": null,
      "id": "adb32e1d",
      "metadata": {
        "id": "adb32e1d",
        "outputId": "ea363b01-cc10-441a-cb66-c41376aeaad6"
      },
      "outputs": [
        {
          "name": "stdout",
          "output_type": "stream",
          "text": [
            "['(25, 32)' '(38, 43)' '(4, 6)' '(60, 100)' '(15, 20)' '(48, 53)'\n",
            " '(8, 12)' '(0, 2)' 'None' '(38, 48)' '35' '3' '55' '58' '22' '13' '45'\n",
            " '36' '23' '(38, 42)' '(8, 23)' '(27, 32)' '57' '56' '2' '29' '34' '42'\n",
            " '46' '32']\n"
          ]
        }
      ],
      "source": [
        "# There are certain ages which lies in between the bins,\n",
        "# so we are removing them to avoid confusion\n",
        "print(full_fold_df.age.unique())"
      ]
    },
    {
      "cell_type": "code",
      "execution_count": null,
      "id": "9ad54414",
      "metadata": {
        "id": "9ad54414"
      },
      "outputs": [],
      "source": [
        "# as you can see there are two bins which is not in\n",
        "# offical bins so we have to remove than also\n",
        "# Offical bins = (0-2, 4-6, 8-13, 15-20, 25-32, 38-43, 48-53, 60-)\n",
        "# unwanted bins = (8-23) (38, 48) as we cannot include inside any other bins\n",
        "# (27-32) (38, 42) bins can be included in the (25-32), (38-43) class"
      ]
    },
    {
      "cell_type": "code",
      "execution_count": null,
      "id": "07721342",
      "metadata": {
        "id": "07721342"
      },
      "outputs": [],
      "source": [
        "def remove_unwanted_data(full_fold_df):\n",
        "    # removing nan and 'u' values from the gender\n",
        "    index_df = full_fold_df[full_fold_df.gender.isna()].index\n",
        "    full_fold_df.drop(index_df, inplace=True)\n",
        "    index_df = full_fold_df[full_fold_df.gender == 'u'].index\n",
        "    full_fold_df.drop(index_df, inplace=True)\n",
        "\n",
        "    full_fold_df = full_fold_df[full_fold_df['age'].str.contains('\\)')]\n",
        "\n",
        "    full_fold_df = full_fold_df[~full_fold_df['age'].str.contains('(8, 23)')]\n",
        "\n",
        "    full_fold_df = full_fold_df[~full_fold_df['age'].str.contains('(38, 48)')]\n",
        "\n",
        "    full_fold_df = full_fold_df.drop_duplicates(subset=['user_id', 'original_image'])\n",
        "\n",
        "    return full_fold_df"
      ]
    },
    {
      "cell_type": "code",
      "execution_count": null,
      "id": "db6406ff",
      "metadata": {
        "id": "db6406ff",
        "outputId": "afc3c9ef-5585-43ba-d332-c862b370a780"
      },
      "outputs": [
        {
          "name": "stderr",
          "output_type": "stream",
          "text": [
            "C:\\Users\\Pranav S\\AppData\\Local\\Temp\\ipykernel_11036\\1111526256.py:10: UserWarning: This pattern is interpreted as a regular expression, and has match groups. To actually get the groups, use str.extract.\n",
            "  full_fold_df = full_fold_df[~full_fold_df['age'].str.contains('(8, 23)')]\n",
            "C:\\Users\\Pranav S\\AppData\\Local\\Temp\\ipykernel_11036\\1111526256.py:12: UserWarning: This pattern is interpreted as a regular expression, and has match groups. To actually get the groups, use str.extract.\n",
            "  full_fold_df = full_fold_df[~full_fold_df['age'].str.contains('(38, 48)')]\n"
          ]
        }
      ],
      "source": [
        "full_fold_df = remove_unwanted_data(full_fold_df)\n",
        "final_df = full_fold_df[['user_id', 'original_image', 'face_id', 'age', 'gender']]"
      ]
    },
    {
      "cell_type": "code",
      "execution_count": null,
      "id": "5e7e3e79",
      "metadata": {
        "id": "5e7e3e79"
      },
      "outputs": [],
      "source": [
        "class_dict = {\n",
        "    'm':0,\n",
        "    'f':1\n",
        "}"
      ]
    },
    {
      "cell_type": "code",
      "execution_count": null,
      "id": "6d8008ba",
      "metadata": {
        "id": "6d8008ba",
        "outputId": "246bffe1-60de-4de3-9389-251ac6ba0efa"
      },
      "outputs": [
        {
          "data": {
            "text/plain": [
              "10870"
            ]
          },
          "execution_count": 15,
          "metadata": {},
          "output_type": "execute_result"
        }
      ],
      "source": [
        "classes = []\n",
        "for i in final_df.index:\n",
        "    gender = final_df.loc[i, 'gender']\n",
        "    classes.append(class_dict[gender])\n",
        "\n",
        "len(classes)"
      ]
    },
    {
      "cell_type": "code",
      "execution_count": null,
      "id": "2812c38b",
      "metadata": {
        "id": "2812c38b",
        "outputId": "f248a0d9-0f88-4490-cd5c-7145838ff191"
      },
      "outputs": [
        {
          "name": "stderr",
          "output_type": "stream",
          "text": [
            "C:\\Users\\Pranav S\\AppData\\Local\\Temp\\ipykernel_11036\\2462118974.py:1: SettingWithCopyWarning: \n",
            "A value is trying to be set on a copy of a slice from a DataFrame.\n",
            "Try using .loc[row_indexer,col_indexer] = value instead\n",
            "\n",
            "See the caveats in the documentation: https://pandas.pydata.org/pandas-docs/stable/user_guide/indexing.html#returning-a-view-versus-a-copy\n",
            "  final_df['class'] = classes\n"
          ]
        }
      ],
      "source": [
        "final_df['class'] = classes"
      ]
    },
    {
      "cell_type": "code",
      "execution_count": null,
      "id": "79e5ca64",
      "metadata": {
        "id": "79e5ca64"
      },
      "outputs": [],
      "source": [
        "final_df = final_df.reset_index(drop=True)"
      ]
    },
    {
      "cell_type": "code",
      "execution_count": null,
      "id": "b01a39a3",
      "metadata": {
        "id": "b01a39a3"
      },
      "outputs": [],
      "source": [
        "img_path = []\n",
        "base_path = './aligned/'\n",
        "for idx in final_df.index:\n",
        "  file_name = final_df.loc[idx,'original_image']\n",
        "  folder_names = image_folder_dict[final_df.loc[idx,'user_id']]\n",
        "  face_id = str(final_df.loc[idx,'face_id'])\n",
        "  for i in folder_names:\n",
        "    path = base_path + final_df.loc[idx,'user_id'] + '/' + i\n",
        "    if path.endswith(face_id+'.'+file_name):\n",
        "      img_path.append(path)"
      ]
    },
    {
      "cell_type": "code",
      "execution_count": null,
      "id": "8a983c07",
      "metadata": {
        "id": "8a983c07"
      },
      "outputs": [],
      "source": [
        "final_df['path'] = img_path"
      ]
    },
    {
      "cell_type": "code",
      "execution_count": null,
      "id": "792ecc76",
      "metadata": {
        "id": "792ecc76"
      },
      "outputs": [],
      "source": [
        "import tensorflow as tf\n",
        "\n",
        "sess = tf.compat.v1.Session()"
      ]
    },
    {
      "cell_type": "code",
      "execution_count": null,
      "id": "45e9248f",
      "metadata": {
        "id": "45e9248f"
      },
      "outputs": [],
      "source": [
        "import numpy as np\n",
        "import cv2\n",
        "import random\n",
        "from sklearn.decomposition import PCA"
      ]
    },
    {
      "cell_type": "code",
      "execution_count": null,
      "id": "180b8174",
      "metadata": {
        "id": "180b8174"
      },
      "outputs": [],
      "source": [
        "# Seperating the X and Y\n",
        "y = final_df['class'].values\n",
        "X = np.empty((10870, 199, 199, 3), dtype=np.uint8)\n",
        "for idx,i in enumerate(final_df.path):\n",
        "    img = cv2.imread(i, cv2.IMREAD_COLOR)\n",
        "    img = cv2.resize(img,(199, 199))\n",
        "    img = img.reshape(199, 199, 3)\n",
        "    X[idx,:] = img"
      ]
    },
    {
      "cell_type": "code",
      "execution_count": null,
      "id": "d5c273b6",
      "metadata": {
        "id": "d5c273b6"
      },
      "outputs": [],
      "source": [
        "from sklearn.model_selection import train_test_split"
      ]
    },
    {
      "cell_type": "code",
      "execution_count": null,
      "id": "dc26271b",
      "metadata": {
        "id": "dc26271b"
      },
      "outputs": [],
      "source": [
        "X_train, X_test, y_train, y_test = train_test_split(X, y, test_size=0.2, random_state=42)"
      ]
    },
    {
      "cell_type": "code",
      "execution_count": null,
      "id": "c99a27a2",
      "metadata": {
        "id": "c99a27a2"
      },
      "outputs": [],
      "source": [
        "# for memory management run after train_test_split to\n",
        "# save memory\n",
        "del X\n",
        "del y"
      ]
    },
    {
      "cell_type": "code",
      "execution_count": null,
      "id": "e9f7d371",
      "metadata": {
        "id": "e9f7d371"
      },
      "outputs": [],
      "source": [
        "from tensorflow.keras.utils import to_categorical"
      ]
    },
    {
      "cell_type": "code",
      "execution_count": null,
      "id": "aac26713",
      "metadata": {
        "id": "aac26713"
      },
      "outputs": [],
      "source": [
        "y_train = to_categorical(y_train)\n",
        "y_test = to_categorical(y_test)"
      ]
    },
    {
      "cell_type": "code",
      "execution_count": null,
      "id": "786663f5",
      "metadata": {
        "id": "786663f5"
      },
      "outputs": [],
      "source": [
        "input_shape = X_train.shape[1:]"
      ]
    },
    {
      "cell_type": "code",
      "execution_count": null,
      "id": "8a20ba52",
      "metadata": {
        "id": "8a20ba52"
      },
      "outputs": [],
      "source": [
        "def build_model_cnn(input_shape):\n",
        "    model = tf.keras.models.Sequential()\n",
        "    model.add(tf.keras.layers.Conv2D(filters=16, kernel_size=3,\n",
        "                                   strides=1,padding='same',activation='relu',\n",
        "                                   input_shape = input_shape)),\n",
        "\n",
        "    model.add(tf.keras.layers.MaxPool2D(pool_size=2, strides=2)),\n",
        "\n",
        "    model.add(tf.keras.layers.Conv2D(filters=32, kernel_size=3,\n",
        "                                   strides=1,padding='same',activation='relu')),\n",
        "\n",
        "    model.add(tf.keras.layers.MaxPool2D(pool_size=2, strides=2)),\n",
        "\n",
        "    model.add(tf.keras.layers.Conv2D(filters=64, kernel_size=3,\n",
        "                                   strides=1,padding='same',activation='relu')),\n",
        "\n",
        "    #model.add(tf.keras.layers.BatchNormalization(axis=-1)),\n",
        "\n",
        "    model.add(tf.keras.layers.MaxPool2D(pool_size=2, strides=2)),\n",
        "\n",
        "    model.add(tf.keras.layers.Conv2D(filters=128, kernel_size=3,\n",
        "                                   strides=1,padding='same',activation='relu')),\n",
        "\n",
        "    model.add(tf.keras.layers.Conv2D(filters=256, kernel_size=3,\n",
        "                                   strides=1,padding='same',activation='relu')),\n",
        "    model.add(tf.keras.layers.MaxPool2D(pool_size=2, strides=2)),\n",
        "\n",
        "    model.add(tf.keras.layers.Flatten()),\n",
        "    model.add(tf.keras.layers.Dropout(0.8))\n",
        "    model.add(tf.keras.layers.Dense(units=2, activation='softmax'))\n",
        "\n",
        "    opt = tf.keras.optimizers.Adam()\n",
        "    model.compile(optimizer=opt,\n",
        "                loss='CategoricalCrossentropy',\n",
        "                metrics=['accuracy'])\n",
        "\n",
        "    model.summary()\n",
        "\n",
        "    return model"
      ]
    },
    {
      "cell_type": "code",
      "execution_count": null,
      "id": "5a197920",
      "metadata": {
        "id": "5a197920",
        "outputId": "5e48ca14-3399-404c-a412-45dc5ded1843"
      },
      "outputs": [
        {
          "name": "stdout",
          "output_type": "stream",
          "text": [
            "Model: \"sequential\"\n",
            "_________________________________________________________________\n",
            " Layer (type)                Output Shape              Param #   \n",
            "=================================================================\n",
            " conv2d (Conv2D)             (None, 199, 199, 16)      448       \n",
            "                                                                 \n",
            " max_pooling2d (MaxPooling2D  (None, 99, 99, 16)       0         \n",
            " )                                                               \n",
            "                                                                 \n",
            " conv2d_1 (Conv2D)           (None, 99, 99, 32)        4640      \n",
            "                                                                 \n",
            " max_pooling2d_1 (MaxPooling  (None, 49, 49, 32)       0         \n",
            " 2D)                                                             \n",
            "                                                                 \n",
            " conv2d_2 (Conv2D)           (None, 49, 49, 64)        18496     \n",
            "                                                                 \n",
            " max_pooling2d_2 (MaxPooling  (None, 24, 24, 64)       0         \n",
            " 2D)                                                             \n",
            "                                                                 \n",
            " conv2d_3 (Conv2D)           (None, 24, 24, 128)       73856     \n",
            "                                                                 \n",
            " conv2d_4 (Conv2D)           (None, 24, 24, 256)       295168    \n",
            "                                                                 \n",
            " max_pooling2d_3 (MaxPooling  (None, 12, 12, 256)      0         \n",
            " 2D)                                                             \n",
            "                                                                 \n",
            " flatten (Flatten)           (None, 36864)             0         \n",
            "                                                                 \n",
            " dropout (Dropout)           (None, 36864)             0         \n",
            "                                                                 \n",
            " dense (Dense)               (None, 2)                 73730     \n",
            "                                                                 \n",
            "=================================================================\n",
            "Total params: 466,338\n",
            "Trainable params: 466,338\n",
            "Non-trainable params: 0\n",
            "_________________________________________________________________\n"
          ]
        }
      ],
      "source": [
        "gender_model = build_model_cnn(input_shape)"
      ]
    },
    {
      "cell_type": "code",
      "execution_count": null,
      "id": "a836a51b",
      "metadata": {
        "scrolled": true,
        "id": "a836a51b",
        "outputId": "7fad41bf-b654-4296-e40a-1d9973413c13"
      },
      "outputs": [
        {
          "name": "stdout",
          "output_type": "stream",
          "text": [
            "Epoch 1/50\n",
            "272/272 [==============================] - ETA: 0s - loss: 1.0487 - accuracy: 0.5948\n",
            "Epoch 1: val_loss improved from inf to 0.60125, saving model to gender_model.h5\n",
            "272/272 [==============================] - 17s 51ms/step - loss: 1.0487 - accuracy: 0.5948 - val_loss: 0.6013 - val_accuracy: 0.6716\n",
            "Epoch 2/50\n",
            "271/272 [============================>.] - ETA: 0s - loss: 0.6284 - accuracy: 0.6499\n",
            "Epoch 2: val_loss improved from 0.60125 to 0.58531, saving model to gender_model.h5\n",
            "272/272 [==============================] - 13s 46ms/step - loss: 0.6281 - accuracy: 0.6501 - val_loss: 0.5853 - val_accuracy: 0.6868\n",
            "Epoch 3/50\n",
            "271/272 [============================>.] - ETA: 0s - loss: 0.5955 - accuracy: 0.6780\n",
            "Epoch 3: val_loss improved from 0.58531 to 0.57291, saving model to gender_model.h5\n",
            "272/272 [==============================] - 13s 47ms/step - loss: 0.5958 - accuracy: 0.6780 - val_loss: 0.5729 - val_accuracy: 0.7111\n",
            "Epoch 4/50\n",
            "271/272 [============================>.] - ETA: 0s - loss: 0.5588 - accuracy: 0.7141\n",
            "Epoch 4: val_loss improved from 0.57291 to 0.54141, saving model to gender_model.h5\n",
            "272/272 [==============================] - 13s 46ms/step - loss: 0.5588 - accuracy: 0.7141 - val_loss: 0.5414 - val_accuracy: 0.7305\n",
            "Epoch 5/50\n",
            "271/272 [============================>.] - ETA: 0s - loss: 0.5345 - accuracy: 0.7275\n",
            "Epoch 5: val_loss improved from 0.54141 to 0.48523, saving model to gender_model.h5\n",
            "272/272 [==============================] - 13s 46ms/step - loss: 0.5344 - accuracy: 0.7273 - val_loss: 0.4852 - val_accuracy: 0.7663\n",
            "Epoch 6/50\n",
            "271/272 [============================>.] - ETA: 0s - loss: 0.4971 - accuracy: 0.7553\n",
            "Epoch 6: val_loss improved from 0.48523 to 0.46382, saving model to gender_model.h5\n",
            "272/272 [==============================] - 13s 46ms/step - loss: 0.4976 - accuracy: 0.7549 - val_loss: 0.4638 - val_accuracy: 0.7833\n",
            "Epoch 7/50\n",
            "271/272 [============================>.] - ETA: 0s - loss: 0.4825 - accuracy: 0.7649\n",
            "Epoch 7: val_loss improved from 0.46382 to 0.43839, saving model to gender_model.h5\n",
            "272/272 [==============================] - 12s 46ms/step - loss: 0.4826 - accuracy: 0.7649 - val_loss: 0.4384 - val_accuracy: 0.7930\n",
            "Epoch 8/50\n",
            "271/272 [============================>.] - ETA: 0s - loss: 0.4598 - accuracy: 0.7789\n",
            "Epoch 8: val_loss improved from 0.43839 to 0.40709, saving model to gender_model.h5\n",
            "272/272 [==============================] - 12s 46ms/step - loss: 0.4593 - accuracy: 0.7794 - val_loss: 0.4071 - val_accuracy: 0.8091\n",
            "Epoch 9/50\n",
            "271/272 [============================>.] - ETA: 0s - loss: 0.4378 - accuracy: 0.7981\n",
            "Epoch 9: val_loss did not improve from 0.40709\n",
            "272/272 [==============================] - 12s 45ms/step - loss: 0.4380 - accuracy: 0.7980 - val_loss: 0.4196 - val_accuracy: 0.8050\n",
            "Epoch 10/50\n",
            "271/272 [============================>.] - ETA: 0s - loss: 0.4245 - accuracy: 0.7995\n",
            "Epoch 10: val_loss improved from 0.40709 to 0.38105, saving model to gender_model.h5\n",
            "272/272 [==============================] - 12s 46ms/step - loss: 0.4244 - accuracy: 0.7996 - val_loss: 0.3811 - val_accuracy: 0.8192\n",
            "Epoch 11/50\n",
            "271/272 [============================>.] - ETA: 0s - loss: 0.4153 - accuracy: 0.8074\n",
            "Epoch 11: val_loss did not improve from 0.38105\n",
            "272/272 [==============================] - 12s 45ms/step - loss: 0.4159 - accuracy: 0.8070 - val_loss: 0.3919 - val_accuracy: 0.8201\n",
            "Epoch 12/50\n",
            "271/272 [============================>.] - ETA: 0s - loss: 0.4012 - accuracy: 0.8138\n",
            "Epoch 12: val_loss improved from 0.38105 to 0.35926, saving model to gender_model.h5\n",
            "272/272 [==============================] - 12s 46ms/step - loss: 0.4012 - accuracy: 0.8138 - val_loss: 0.3593 - val_accuracy: 0.8413\n",
            "Epoch 13/50\n",
            "271/272 [============================>.] - ETA: 0s - loss: 0.3832 - accuracy: 0.8275\n",
            "Epoch 13: val_loss did not improve from 0.35926\n",
            "272/272 [==============================] - 12s 45ms/step - loss: 0.3827 - accuracy: 0.8279 - val_loss: 0.3905 - val_accuracy: 0.8188\n",
            "Epoch 14/50\n",
            "271/272 [============================>.] - ETA: 0s - loss: 0.3789 - accuracy: 0.8288\n",
            "Epoch 14: val_loss improved from 0.35926 to 0.35711, saving model to gender_model.h5\n",
            "272/272 [==============================] - 12s 46ms/step - loss: 0.3791 - accuracy: 0.8287 - val_loss: 0.3571 - val_accuracy: 0.8404\n",
            "Epoch 15/50\n",
            "271/272 [============================>.] - ETA: 0s - loss: 0.3597 - accuracy: 0.8380\n",
            "Epoch 15: val_loss did not improve from 0.35711\n",
            "272/272 [==============================] - 12s 45ms/step - loss: 0.3594 - accuracy: 0.8380 - val_loss: 0.3604 - val_accuracy: 0.8353\n",
            "Epoch 16/50\n",
            "271/272 [============================>.] - ETA: 0s - loss: 0.3488 - accuracy: 0.8405\n",
            "Epoch 16: val_loss did not improve from 0.35711\n",
            "272/272 [==============================] - 12s 45ms/step - loss: 0.3494 - accuracy: 0.8404 - val_loss: 0.3799 - val_accuracy: 0.8298\n",
            "Epoch 17/50\n",
            "271/272 [============================>.] - ETA: 0s - loss: 0.3469 - accuracy: 0.8433\n",
            "Epoch 17: val_loss did not improve from 0.35711\n",
            "272/272 [==============================] - 12s 45ms/step - loss: 0.3470 - accuracy: 0.8433 - val_loss: 0.3853 - val_accuracy: 0.8257\n",
            "Epoch 18/50\n",
            "271/272 [============================>.] - ETA: 0s - loss: 0.3337 - accuracy: 0.8509\n",
            "Epoch 18: val_loss improved from 0.35711 to 0.35623, saving model to gender_model.h5\n",
            "272/272 [==============================] - 12s 45ms/step - loss: 0.3334 - accuracy: 0.8509 - val_loss: 0.3562 - val_accuracy: 0.8372\n",
            "Epoch 19/50\n",
            "271/272 [============================>.] - ETA: 0s - loss: 0.3215 - accuracy: 0.8593\n",
            "Epoch 19: val_loss improved from 0.35623 to 0.32987, saving model to gender_model.h5\n",
            "272/272 [==============================] - 13s 47ms/step - loss: 0.3219 - accuracy: 0.8589 - val_loss: 0.3299 - val_accuracy: 0.8556\n",
            "Epoch 20/50\n",
            "271/272 [============================>.] - ETA: 0s - loss: 0.3170 - accuracy: 0.8592\n",
            "Epoch 20: val_loss did not improve from 0.32987\n",
            "272/272 [==============================] - 12s 45ms/step - loss: 0.3170 - accuracy: 0.8591 - val_loss: 0.3811 - val_accuracy: 0.8404\n",
            "Epoch 21/50\n",
            "271/272 [============================>.] - ETA: 0s - loss: 0.3133 - accuracy: 0.8617\n",
            "Epoch 21: val_loss did not improve from 0.32987\n",
            "272/272 [==============================] - 12s 45ms/step - loss: 0.3130 - accuracy: 0.8619 - val_loss: 0.3479 - val_accuracy: 0.8482\n",
            "Epoch 22/50\n",
            "271/272 [============================>.] - ETA: 0s - loss: 0.3046 - accuracy: 0.8657\n",
            "Epoch 22: val_loss did not improve from 0.32987\n",
            "272/272 [==============================] - 12s 45ms/step - loss: 0.3050 - accuracy: 0.8655 - val_loss: 0.3488 - val_accuracy: 0.8528\n",
            "Epoch 23/50\n",
            "271/272 [============================>.] - ETA: 0s - loss: 0.2874 - accuracy: 0.8738\n",
            "Epoch 23: val_loss did not improve from 0.32987\n",
            "272/272 [==============================] - 12s 45ms/step - loss: 0.2877 - accuracy: 0.8737 - val_loss: 0.3513 - val_accuracy: 0.8491\n",
            "Epoch 24/50\n",
            "271/272 [============================>.] - ETA: 0s - loss: 0.2877 - accuracy: 0.8785\n",
            "Epoch 24: val_loss did not improve from 0.32987\n",
            "272/272 [==============================] - 12s 45ms/step - loss: 0.2885 - accuracy: 0.8782 - val_loss: 0.3527 - val_accuracy: 0.8408\n"
          ]
        }
      ],
      "source": [
        "tf.debugging.set_log_device_placement(True)\n",
        "stop_early = tf.keras.callbacks.EarlyStopping(\n",
        "                            monitor='val_loss', patience=5)\n",
        "checkpoint = tf.keras.callbacks.ModelCheckpoint(\n",
        "                        'gender_model.h5',\n",
        "                        verbose=1,\n",
        "                        save_best_only=True,\n",
        "                        monitor='val_loss')\n",
        "\n",
        "history = gender_model.fit(x=X_train,y= y_train,\n",
        "              validation_data=(X_test, y_test),\n",
        "              epochs=50,\n",
        "              callbacks=[stop_early, checkpoint])"
      ]
    },
    {
      "cell_type": "code",
      "execution_count": null,
      "id": "b88fcc9d",
      "metadata": {
        "id": "b88fcc9d"
      },
      "outputs": [],
      "source": [
        "import matplotlib.pyplot as plt"
      ]
    },
    {
      "cell_type": "code",
      "execution_count": null,
      "id": "1be708d5",
      "metadata": {
        "id": "1be708d5",
        "outputId": "c4a1a8eb-f9ba-4e43-9a90-43dfbedb518d"
      },
      "outputs": [
        {
          "data": {
            "image/png": "[encoded data removed]",
            "text/plain": [
              "<Figure size 1200x600 with 2 Axes>"
            ]
          },
          "metadata": {},
          "output_type": "display_data"
        }
      ],
      "source": [
        "acc = history.history['accuracy']\n",
        "val_acc = history.history['val_accuracy']\n",
        "\n",
        "loss = history.history['loss']\n",
        "val_loss = history.history['val_loss']\n",
        "\n",
        "epochs_range = range(len(history.history['loss']))\n",
        "\n",
        "plt.figure(figsize=(12, 6))\n",
        "plt.subplot(1, 2, 1)\n",
        "plt.plot(epochs_range, acc, label='Training Accuracy')\n",
        "plt.plot(epochs_range, val_acc, label='Validation Accuracy')\n",
        "plt.legend(loc='lower right')\n",
        "plt.title('Training and Validation Accuracy')\n",
        "\n",
        "plt.subplot(1, 2, 2)\n",
        "plt.plot(epochs_range, loss, label='Training Loss')\n",
        "plt.plot(epochs_range, val_loss, label='Validation Loss')\n",
        "plt.legend(loc='upper right')\n",
        "plt.title('Training and Validation Loss')\n",
        "plt.show()"
      ]
    },
    {
      "cell_type": "code",
      "execution_count": null,
      "id": "1cf5e521",
      "metadata": {
        "id": "1cf5e521",
        "outputId": "424544ff-607b-4ce4-e45d-5a662ce1228f"
      },
      "outputs": [
        {
          "name": "stdout",
          "output_type": "stream",
          "text": [
            "the Accuracy of the model is 0.8555657863616943\n"
          ]
        }
      ],
      "source": [
        "print(f'the Accuracy of the model is {max(val_acc)}')"
      ]
    },
    {
      "cell_type": "code",
      "execution_count": null,
      "id": "d3064e56",
      "metadata": {
        "id": "d3064e56"
      },
      "outputs": [],
      "source": [
        "# for Memory Managment\n",
        "del gender_model"
      ]
    },
    {
      "cell_type": "code",
      "execution_count": null,
      "id": "762b8b93",
      "metadata": {
        "id": "762b8b93"
      },
      "outputs": [],
      "source": [
        "tf.compat.v1.reset_default_graph()"
      ]
    },
    {
      "cell_type": "code",
      "execution_count": null,
      "id": "2f0d2a60",
      "metadata": {
        "id": "2f0d2a60"
      },
      "outputs": [],
      "source": []
    }
  ],
  "metadata": {
    "kernelspec": {
      "display_name": "Python 3 (ipykernel)",
      "language": "python",
      "name": "python3"
    },
    "language_info": {
      "codemirror_mode": {
        "name": "ipython",
        "version": 3
      },
      "file_extension": ".py",
      "mimetype": "text/x-python",
      "name": "python",
      "nbconvert_exporter": "python",
      "pygments_lexer": "ipython3",
      "version": "3.10.6"
    },
    "colab": {
      "provenance": []
    }
  },
  "nbformat": 4,
  "nbformat_minor": 5
}